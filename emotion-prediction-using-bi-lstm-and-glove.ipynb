{
 "cells": [
  {
   "cell_type": "markdown",
   "id": "delayed-validation",
   "metadata": {
    "papermill": {
     "duration": 0.022576,
     "end_time": "2021-05-21T06:56:45.506132",
     "exception": false,
     "start_time": "2021-05-21T06:56:45.483556",
     "status": "completed"
    },
    "tags": []
   },
   "source": [
    "# Import libraries"
   ]
  },
  {
   "cell_type": "code",
   "execution_count": 1,
   "id": "polyphonic-address",
   "metadata": {
    "_cell_guid": "b1076dfc-b9ad-4769-8c92-a6c4dae69d19",
    "_uuid": "8f2839f25d086af736a60e9eeb907d3b93b6e0e5",
    "execution": {
     "iopub.execute_input": "2021-05-21T06:56:45.560723Z",
     "iopub.status.busy": "2021-05-21T06:56:45.560095Z",
     "iopub.status.idle": "2021-05-21T06:56:51.663360Z",
     "shell.execute_reply": "2021-05-21T06:56:51.662727Z",
     "shell.execute_reply.started": "2021-05-21T06:42:43.591359Z"
    },
    "papermill": {
     "duration": 6.136156,
     "end_time": "2021-05-21T06:56:51.663508",
     "exception": false,
     "start_time": "2021-05-21T06:56:45.527352",
     "status": "completed"
    },
    "tags": []
   },
   "outputs": [],
   "source": [
    "import numpy as np\n",
    "import pandas as pd \n",
    "import tensorflow as tf\n",
    "import nltk\n",
    "import seaborn as sns\n",
    "import re\n",
    "import matplotlib.pyplot as plt\n",
    "\n",
    "from tensorflow.keras.layers import Embedding, Dense, LSTM, Dropout, Bidirectional\n",
    "from tensorflow.keras.preprocessing.sequence import pad_sequences\n",
    "from tensorflow.keras.models import Sequential\n",
    "from tensorflow.keras.preprocessing.text import one_hot, Tokenizer\n",
    "from tensorflow.keras.callbacks import ModelCheckpoint\n",
    "from nltk.corpus import stopwords\n",
    "from nltk.stem.porter import PorterStemmer\n",
    "from sklearn import preprocessing\n",
    "from sklearn.model_selection import train_test_split\n",
    "from sklearn.metrics import accuracy_score, classification_report, confusion_matrix"
   ]
  },
  {
   "cell_type": "markdown",
   "id": "involved-satisfaction",
   "metadata": {
    "papermill": {
     "duration": 0.02075,
     "end_time": "2021-05-21T06:56:51.706667",
     "exception": false,
     "start_time": "2021-05-21T06:56:51.685917",
     "status": "completed"
    },
    "tags": []
   },
   "source": [
    "# Read and clean data"
   ]
  },
  {
   "cell_type": "code",
   "execution_count": 2,
   "id": "intensive-developer",
   "metadata": {
    "execution": {
     "iopub.execute_input": "2021-05-21T06:56:51.753192Z",
     "iopub.status.busy": "2021-05-21T06:56:51.752642Z",
     "iopub.status.idle": "2021-05-21T06:56:51.851057Z",
     "shell.execute_reply": "2021-05-21T06:56:51.851492Z",
     "shell.execute_reply.started": "2021-05-21T06:42:53.884490Z"
    },
    "papermill": {
     "duration": 0.123986,
     "end_time": "2021-05-21T06:56:51.851645",
     "exception": false,
     "start_time": "2021-05-21T06:56:51.727659",
     "status": "completed"
    },
    "tags": []
   },
   "outputs": [
    {
     "data": {
      "text/html": [
       "<div>\n",
       "<style scoped>\n",
       "    .dataframe tbody tr th:only-of-type {\n",
       "        vertical-align: middle;\n",
       "    }\n",
       "\n",
       "    .dataframe tbody tr th {\n",
       "        vertical-align: top;\n",
       "    }\n",
       "\n",
       "    .dataframe thead th {\n",
       "        text-align: right;\n",
       "    }\n",
       "</style>\n",
       "<table border=\"1\" class=\"dataframe\">\n",
       "  <thead>\n",
       "    <tr style=\"text-align: right;\">\n",
       "      <th></th>\n",
       "      <th>Text</th>\n",
       "      <th>Emotion</th>\n",
       "    </tr>\n",
       "  </thead>\n",
       "  <tbody>\n",
       "    <tr>\n",
       "      <th>0</th>\n",
       "      <td>i didnt feel humiliated</td>\n",
       "      <td>sadness</td>\n",
       "    </tr>\n",
       "    <tr>\n",
       "      <th>1</th>\n",
       "      <td>i can go from feeling so hopeless to so damned...</td>\n",
       "      <td>sadness</td>\n",
       "    </tr>\n",
       "    <tr>\n",
       "      <th>2</th>\n",
       "      <td>im grabbing a minute to post i feel greedy wrong</td>\n",
       "      <td>anger</td>\n",
       "    </tr>\n",
       "    <tr>\n",
       "      <th>3</th>\n",
       "      <td>i am ever feeling nostalgic about the fireplac...</td>\n",
       "      <td>love</td>\n",
       "    </tr>\n",
       "    <tr>\n",
       "      <th>4</th>\n",
       "      <td>i am feeling grouchy</td>\n",
       "      <td>anger</td>\n",
       "    </tr>\n",
       "  </tbody>\n",
       "</table>\n",
       "</div>"
      ],
      "text/plain": [
       "                                                Text  Emotion\n",
       "0                            i didnt feel humiliated  sadness\n",
       "1  i can go from feeling so hopeless to so damned...  sadness\n",
       "2   im grabbing a minute to post i feel greedy wrong    anger\n",
       "3  i am ever feeling nostalgic about the fireplac...     love\n",
       "4                               i am feeling grouchy    anger"
      ]
     },
     "execution_count": 2,
     "metadata": {},
     "output_type": "execute_result"
    }
   ],
   "source": [
    "df=pd.read_csv('../input/emotions-in-text/Emotion_final.csv') #Text data\n",
    "EMBEDDING_FILE= f'../input/glove6b100dtxt/glove.6B.100d.txt' #GloVe file path\n",
    "df.head()"
   ]
  },
  {
   "cell_type": "code",
   "execution_count": 3,
   "id": "agreed-pathology",
   "metadata": {
    "execution": {
     "iopub.execute_input": "2021-05-21T06:56:51.899379Z",
     "iopub.status.busy": "2021-05-21T06:56:51.898837Z",
     "iopub.status.idle": "2021-05-21T06:56:52.069642Z",
     "shell.execute_reply": "2021-05-21T06:56:52.070015Z",
     "shell.execute_reply.started": "2021-05-21T06:50:35.843686Z"
    },
    "papermill": {
     "duration": 0.196721,
     "end_time": "2021-05-21T06:56:52.070182",
     "exception": false,
     "start_time": "2021-05-21T06:56:51.873461",
     "status": "completed"
    },
    "tags": []
   },
   "outputs": [
    {
     "name": "stderr",
     "output_type": "stream",
     "text": [
      "/opt/conda/lib/python3.7/site-packages/seaborn/_decorators.py:43: FutureWarning: Pass the following variable as a keyword arg: x. From version 0.12, the only valid positional argument will be `data`, and passing other arguments without an explicit keyword will result in an error or misinterpretation.\n",
      "  FutureWarning\n"
     ]
    },
    {
     "data": {
      "text/plain": [
       "<AxesSubplot:xlabel='Emotion', ylabel='count'>"
      ]
     },
     "execution_count": 3,
     "metadata": {},
     "output_type": "execute_result"
    },
    {
     "data": {
      "image/png": "[encoded data removed]",
      "text/plain": [
       "<Figure size 432x288 with 1 Axes>"
      ]
     },
     "metadata": {
      "needs_background": "light"
     },
     "output_type": "display_data"
    }
   ],
   "source": [
    "#Target Classes\n",
    "sns.countplot(df['Emotion']) "
   ]
  },
  {
   "cell_type": "code",
   "execution_count": 4,
   "id": "attached-disco",
   "metadata": {
    "execution": {
     "iopub.execute_input": "2021-05-21T06:56:52.124665Z",
     "iopub.status.busy": "2021-05-21T06:56:52.124047Z",
     "iopub.status.idle": "2021-05-21T06:56:52.141946Z",
     "shell.execute_reply": "2021-05-21T06:56:52.141204Z",
     "shell.execute_reply.started": "2021-05-21T06:42:56.390365Z"
    },
    "papermill": {
     "duration": 0.049227,
     "end_time": "2021-05-21T06:56:52.142073",
     "exception": false,
     "start_time": "2021-05-21T06:56:52.092846",
     "status": "completed"
    },
    "tags": []
   },
   "outputs": [],
   "source": [
    "df=df.dropna() #Drop columns with NA values\n",
    "X=df.drop('Emotion',axis=1) #Input\n",
    "y=df['Emotion'] #Output"
   ]
  },
  {
   "cell_type": "code",
   "execution_count": 5,
   "id": "martial-affairs",
   "metadata": {
    "execution": {
     "iopub.execute_input": "2021-05-21T06:56:52.191503Z",
     "iopub.status.busy": "2021-05-21T06:56:52.190835Z",
     "iopub.status.idle": "2021-05-21T06:56:52.193652Z",
     "shell.execute_reply": "2021-05-21T06:56:52.193109Z",
     "shell.execute_reply.started": "2021-05-21T04:14:39.197372Z"
    },
    "papermill": {
     "duration": 0.029365,
     "end_time": "2021-05-21T06:56:52.193762",
     "exception": false,
     "start_time": "2021-05-21T06:56:52.164397",
     "status": "completed"
    },
    "tags": []
   },
   "outputs": [],
   "source": [
    "messages=X.copy()\n",
    "messages.reset_index(inplace=True) #Drop NA may cause inconsistency in index"
   ]
  },
  {
   "cell_type": "code",
   "execution_count": 6,
   "id": "comparative-province",
   "metadata": {
    "execution": {
     "iopub.execute_input": "2021-05-21T06:56:52.250068Z",
     "iopub.status.busy": "2021-05-21T06:56:52.249547Z",
     "iopub.status.idle": "2021-05-21T06:57:45.267256Z",
     "shell.execute_reply": "2021-05-21T06:57:45.266747Z",
     "shell.execute_reply.started": "2021-05-21T04:14:39.207623Z"
    },
    "papermill": {
     "duration": 53.051516,
     "end_time": "2021-05-21T06:57:45.267407",
     "exception": false,
     "start_time": "2021-05-21T06:56:52.215891",
     "status": "completed"
    },
    "tags": []
   },
   "outputs": [
    {
     "name": "stdout",
     "output_type": "stream",
     "text": [
      "[nltk_data] Downloading package stopwords to /usr/share/nltk_data...\n",
      "[nltk_data]   Package stopwords is already up-to-date!\n"
     ]
    }
   ],
   "source": [
    "nltk.download('stopwords')\n",
    "ps = PorterStemmer()\n",
    "corpus = []\n",
    "for i in range(0, len(messages)):\n",
    "    review = re.sub('[^a-zA-Z]', ' ', messages['Text'][i]) #Remove Special Characters\n",
    "    review = review.lower() #Lower case \n",
    "    review = review.split()\n",
    "    review = [ps.stem(word) for word in review if not word in stopwords.words('english')] #Remove stopwords\n",
    "    review = ' '.join(review)\n",
    "    corpus.append(review)"
   ]
  },
  {
   "cell_type": "code",
   "execution_count": 7,
   "id": "ancient-magic",
   "metadata": {
    "execution": {
     "iopub.execute_input": "2021-05-21T06:57:45.318225Z",
     "iopub.status.busy": "2021-05-21T06:57:45.317682Z",
     "iopub.status.idle": "2021-05-21T06:57:45.323001Z",
     "shell.execute_reply": "2021-05-21T06:57:45.323391Z",
     "shell.execute_reply.started": "2021-05-21T04:15:29.933307Z"
    },
    "papermill": {
     "duration": 0.032401,
     "end_time": "2021-05-21T06:57:45.323514",
     "exception": false,
     "start_time": "2021-05-21T06:57:45.291113",
     "status": "completed"
    },
    "tags": []
   },
   "outputs": [
    {
     "data": {
      "text/plain": [
       "['didnt feel humili',\n",
       " 'go feel hopeless damn hope around someon care awak',\n",
       " 'im grab minut post feel greedi wrong',\n",
       " 'ever feel nostalg fireplac know still properti',\n",
       " 'feel grouchi',\n",
       " 'ive feel littl burden late wasnt sure',\n",
       " 'ive take milligram time recommend amount ive fallen asleep lot faster also feel like funni',\n",
       " 'feel confus life teenag jade year old man',\n",
       " 'petrona year feel petrona perform well made huge profit',\n",
       " 'feel romant']"
      ]
     },
     "execution_count": 7,
     "metadata": {},
     "output_type": "execute_result"
    }
   ],
   "source": [
    "corpus[:10]"
   ]
  },
  {
   "cell_type": "markdown",
   "id": "armed-inquiry",
   "metadata": {
    "papermill": {
     "duration": 0.02285,
     "end_time": "2021-05-21T06:57:45.369355",
     "exception": false,
     "start_time": "2021-05-21T06:57:45.346505",
     "status": "completed"
    },
    "tags": []
   },
   "source": [
    "# Embedding layer using GloVe "
   ]
  },
  {
   "cell_type": "code",
   "execution_count": 8,
   "id": "european-convention",
   "metadata": {
    "execution": {
     "iopub.execute_input": "2021-05-21T06:57:45.420639Z",
     "iopub.status.busy": "2021-05-21T06:57:45.420086Z",
     "iopub.status.idle": "2021-05-21T06:58:02.969828Z",
     "shell.execute_reply": "2021-05-21T06:58:02.970397Z",
     "shell.execute_reply.started": "2021-05-21T04:15:30.496816Z"
    },
    "papermill": {
     "duration": 17.577857,
     "end_time": "2021-05-21T06:58:02.970607",
     "exception": false,
     "start_time": "2021-05-21T06:57:45.392750",
     "status": "completed"
    },
    "tags": []
   },
   "outputs": [
    {
     "name": "stderr",
     "output_type": "stream",
     "text": [
      "/opt/conda/lib/python3.7/site-packages/IPython/core/interactiveshell.py:3357: FutureWarning: arrays to stack must be passed as a \"sequence\" type such as list or tuple. Support for non-sequence iterables such as generators is deprecated as of NumPy 1.16 and will raise an error in the future.\n",
      "  if (await self.run_code(code, result,  async_=asy)):\n"
     ]
    },
    {
     "name": "stdout",
     "output_type": "stream",
     "text": [
      "0.004451992 0.4081574\n"
     ]
    }
   ],
   "source": [
    "#Creating the dictionary with word as key and pretrained-value array as value\n",
    "def get_coefs(word,*arr): return word, np.asarray(arr, dtype='float32')\n",
    "embeddings_index = dict(get_coefs(*o.strip().split()) for o in open(EMBEDDING_FILE))\n",
    "\n",
    "#Calculate mean and std for the pretrained weights\n",
    "all_embs = np.stack(embeddings_index.values())\n",
    "emb_mean,emb_std = all_embs.mean(), all_embs.std()\n",
    "print(emb_mean,emb_std)"
   ]
  },
  {
   "cell_type": "code",
   "execution_count": 9,
   "id": "controversial-daily",
   "metadata": {
    "execution": {
     "iopub.execute_input": "2021-05-21T06:58:03.066636Z",
     "iopub.status.busy": "2021-05-21T06:58:03.035803Z",
     "iopub.status.idle": "2021-05-21T06:58:03.374403Z",
     "shell.execute_reply": "2021-05-21T06:58:03.373900Z",
     "shell.execute_reply.started": "2021-05-21T04:15:46.795271Z"
    },
    "papermill": {
     "duration": 0.379478,
     "end_time": "2021-05-21T06:58:03.374526",
     "exception": false,
     "start_time": "2021-05-21T06:58:02.995048",
     "status": "completed"
    },
    "tags": []
   },
   "outputs": [],
   "source": [
    "voc_size=10000 # Vocabulary size\n",
    "embed_size=100 #word vector size\n",
    "\n",
    "tokenizer = Tokenizer(num_words=voc_size)\n",
    "tokenizer.fit_on_texts(list(corpus))\n",
    "word_index = tokenizer.word_index #Total words in the corpus\n",
    "nb_words = min(voc_size, len(word_index))\n",
    "\n",
    "#Initialize weight matrix for embedding layer\n",
    "embedding_matrix = np.random.normal(emb_mean, emb_std, (nb_words, embed_size)) \n",
    "\n",
    "for word, i in word_index.items():\n",
    "    if i >= voc_size: continue #Skip the words if vocab size is reached\n",
    "    embedding_vector = embeddings_index.get(word) #Extract the pretrained values from GloVe\n",
    "    if embedding_vector is not None: embedding_matrix[i] = embedding_vector"
   ]
  },
  {
   "cell_type": "code",
   "execution_count": 10,
   "id": "juvenile-breeding",
   "metadata": {
    "execution": {
     "iopub.execute_input": "2021-05-21T06:58:03.426166Z",
     "iopub.status.busy": "2021-05-21T06:58:03.425529Z",
     "iopub.status.idle": "2021-05-21T06:58:03.428641Z",
     "shell.execute_reply": "2021-05-21T06:58:03.429028Z",
     "shell.execute_reply.started": "2021-05-21T04:15:46.854852Z"
    },
    "papermill": {
     "duration": 0.031038,
     "end_time": "2021-05-21T06:58:03.429143",
     "exception": false,
     "start_time": "2021-05-21T06:58:03.398105",
     "status": "completed"
    },
    "tags": []
   },
   "outputs": [
    {
     "data": {
      "text/plain": [
       "10000"
      ]
     },
     "execution_count": 10,
     "metadata": {},
     "output_type": "execute_result"
    }
   ],
   "source": [
    "#Contains the pretrained GloVe weights for the words\n",
    "len(embedding_matrix)"
   ]
  },
  {
   "cell_type": "markdown",
   "id": "coordinated-female",
   "metadata": {
    "papermill": {
     "duration": 0.023445,
     "end_time": "2021-05-21T06:58:03.476200",
     "exception": false,
     "start_time": "2021-05-21T06:58:03.452755",
     "status": "completed"
    },
    "tags": []
   },
   "source": [
    "# Process Input-Output data"
   ]
  },
  {
   "cell_type": "code",
   "execution_count": 11,
   "id": "universal-ordinary",
   "metadata": {
    "execution": {
     "iopub.execute_input": "2021-05-21T06:58:03.550793Z",
     "iopub.status.busy": "2021-05-21T06:58:03.535338Z",
     "iopub.status.idle": "2021-05-21T06:58:03.939911Z",
     "shell.execute_reply": "2021-05-21T06:58:03.940462Z",
     "shell.execute_reply.started": "2021-05-21T04:15:46.863619Z"
    },
    "papermill": {
     "duration": 0.441112,
     "end_time": "2021-05-21T06:58:03.940666",
     "exception": false,
     "start_time": "2021-05-21T06:58:03.499554",
     "status": "completed"
    },
    "tags": []
   },
   "outputs": [
    {
     "name": "stdout",
     "output_type": "stream",
     "text": [
      "[[   0    0    0 ... 5427   99 1689]\n",
      " [   0    0    0 ... 4782 1495 8980]\n",
      " [   0    0    0 ...   99 3316 3628]\n",
      " ...\n",
      " [   0    0    0 ... 5535 7908 8318]\n",
      " [   0    0    0 ... 6279 8318 7579]\n",
      " [   0    0    0 ...    0 8318 9956]]\n"
     ]
    }
   ],
   "source": [
    "#One hot representation for input\n",
    "onehot_repr=[one_hot(words,voc_size)for words in corpus]\n",
    "\n",
    "#Finding max words\n",
    "l = 0\n",
    "for x in corpus:\n",
    "    l = max(l,len(x.split(' ')))\n",
    "\n",
    "#Padding the sequences for input\n",
    "sent_length= l\n",
    "embedded_docs=pad_sequences(onehot_repr,padding='pre',maxlen=sent_length)\n",
    "print(embedded_docs)"
   ]
  },
  {
   "cell_type": "code",
   "execution_count": 12,
   "id": "agreed-inspiration",
   "metadata": {
    "execution": {
     "iopub.execute_input": "2021-05-21T06:58:03.993329Z",
     "iopub.status.busy": "2021-05-21T06:58:03.992530Z",
     "iopub.status.idle": "2021-05-21T06:58:04.003899Z",
     "shell.execute_reply": "2021-05-21T06:58:04.004481Z",
     "shell.execute_reply.started": "2021-05-21T04:15:49.718707Z"
    },
    "papermill": {
     "duration": 0.039764,
     "end_time": "2021-05-21T06:58:04.004649",
     "exception": false,
     "start_time": "2021-05-21T06:58:03.964885",
     "status": "completed"
    },
    "tags": []
   },
   "outputs": [
    {
     "name": "stdout",
     "output_type": "stream",
     "text": [
      "[4 4 0 ... 1 1 1]\n"
     ]
    }
   ],
   "source": [
    "#Encoding the target outputs to integers\n",
    "label_encoder = preprocessing.LabelEncoder()\n",
    "\n",
    "X_final=np.array(embedded_docs) #input to array\n",
    "y = label_encoder.fit_transform(y)\n",
    "y_final=np.array(y)\n",
    "print(y_final)"
   ]
  },
  {
   "cell_type": "code",
   "execution_count": 13,
   "id": "increasing-apparatus",
   "metadata": {
    "execution": {
     "iopub.execute_input": "2021-05-21T06:58:04.058048Z",
     "iopub.status.busy": "2021-05-21T06:58:04.057110Z",
     "iopub.status.idle": "2021-05-21T06:58:04.061048Z",
     "shell.execute_reply": "2021-05-21T06:58:04.061438Z",
     "shell.execute_reply.started": "2021-05-21T04:15:49.739202Z"
    },
    "papermill": {
     "duration": 0.032055,
     "end_time": "2021-05-21T06:58:04.061578",
     "exception": false,
     "start_time": "2021-05-21T06:58:04.029523",
     "status": "completed"
    },
    "tags": []
   },
   "outputs": [
    {
     "data": {
      "text/plain": [
       "((21459, 35), (21459,))"
      ]
     },
     "execution_count": 13,
     "metadata": {},
     "output_type": "execute_result"
    }
   ],
   "source": [
    "X_final.shape,y_final.shape"
   ]
  },
  {
   "cell_type": "code",
   "execution_count": 14,
   "id": "inappropriate-young",
   "metadata": {
    "execution": {
     "iopub.execute_input": "2021-05-21T06:58:04.115646Z",
     "iopub.status.busy": "2021-05-21T06:58:04.114925Z",
     "iopub.status.idle": "2021-05-21T06:58:04.122260Z",
     "shell.execute_reply": "2021-05-21T06:58:04.121823Z",
     "shell.execute_reply.started": "2021-05-21T04:15:49.749183Z"
    },
    "papermill": {
     "duration": 0.036553,
     "end_time": "2021-05-21T06:58:04.122360",
     "exception": false,
     "start_time": "2021-05-21T06:58:04.085807",
     "status": "completed"
    },
    "tags": []
   },
   "outputs": [],
   "source": [
    "#Train-Test split\n",
    "X_train, X_test, y_train, y_test = train_test_split(X_final, y_final, \n",
    "                                                    test_size=0.2, random_state=42) \n",
    "#Train-Validation split\n",
    "X_train, X_val, y_train, y_val = train_test_split(X_train, y_train, \n",
    "                                                  test_size=0.1, random_state=21) "
   ]
  },
  {
   "cell_type": "markdown",
   "id": "vietnamese-confidentiality",
   "metadata": {
    "papermill": {
     "duration": 0.024028,
     "end_time": "2021-05-21T06:58:04.170833",
     "exception": false,
     "start_time": "2021-05-21T06:58:04.146805",
     "status": "completed"
    },
    "tags": []
   },
   "source": [
    "# Create and train model"
   ]
  },
  {
   "cell_type": "code",
   "execution_count": 15,
   "id": "designed-picnic",
   "metadata": {
    "execution": {
     "iopub.execute_input": "2021-05-21T06:58:04.225062Z",
     "iopub.status.busy": "2021-05-21T06:58:04.224559Z",
     "iopub.status.idle": "2021-05-21T06:58:06.834387Z",
     "shell.execute_reply": "2021-05-21T06:58:06.834934Z",
     "shell.execute_reply.started": "2021-05-21T04:15:47.051461Z"
    },
    "papermill": {
     "duration": 2.640052,
     "end_time": "2021-05-21T06:58:06.835137",
     "exception": false,
     "start_time": "2021-05-21T06:58:04.195085",
     "status": "completed"
    },
    "tags": []
   },
   "outputs": [
    {
     "name": "stdout",
     "output_type": "stream",
     "text": [
      "Model: \"sequential\"\n",
      "_________________________________________________________________\n",
      "Layer (type)                 Output Shape              Param #   \n",
      "=================================================================\n",
      "embedding (Embedding)        (None, None, 100)         1000000   \n",
      "_________________________________________________________________\n",
      "dropout (Dropout)            (None, None, 100)         0         \n",
      "_________________________________________________________________\n",
      "bidirectional (Bidirectional (None, 128)               84480     \n",
      "_________________________________________________________________\n",
      "dropout_1 (Dropout)          (None, 128)               0         \n",
      "_________________________________________________________________\n",
      "dense (Dense)                (None, 64)                8256      \n",
      "_________________________________________________________________\n",
      "dropout_2 (Dropout)          (None, 64)                0         \n",
      "_________________________________________________________________\n",
      "dense_1 (Dense)              (None, 6)                 390       \n",
      "=================================================================\n",
      "Total params: 1,093,126\n",
      "Trainable params: 1,093,126\n",
      "Non-trainable params: 0\n",
      "_________________________________________________________________\n"
     ]
    }
   ],
   "source": [
    "# Creating model\n",
    "model=Sequential()\n",
    "model.add(Embedding(voc_size, embed_size, weights=[embedding_matrix]))\n",
    "model.add(Dropout(0.3))\n",
    "model.add(Bidirectional(LSTM(64)))\n",
    "model.add(Dropout(0.3))\n",
    "model.add(Dense(64, activation='relu',kernel_regularizer=tf.keras.regularizers.l1(0.01))) #L1 regularization\n",
    "model.add(Dropout(0.3))\n",
    "model.add(Dense(6,activation='softmax'))\n",
    "model.compile(loss='sparse_categorical_crossentropy',optimizer= tf.keras.optimizers.Adam(learning_rate=0.001),\n",
    "              metrics=['accuracy'])\n",
    "model.summary()"
   ]
  },
  {
   "cell_type": "code",
   "execution_count": 16,
   "id": "dominican-discount",
   "metadata": {
    "execution": {
     "iopub.execute_input": "2021-05-21T06:58:06.890993Z",
     "iopub.status.busy": "2021-05-21T06:58:06.890511Z",
     "iopub.status.idle": "2021-05-21T07:00:44.735899Z",
     "shell.execute_reply": "2021-05-21T07:00:44.735045Z",
     "shell.execute_reply.started": "2021-05-21T04:15:49.777445Z"
    },
    "papermill": {
     "duration": 157.875112,
     "end_time": "2021-05-21T07:00:44.736046",
     "exception": false,
     "start_time": "2021-05-21T06:58:06.860934",
     "status": "completed"
    },
    "tags": []
   },
   "outputs": [
    {
     "name": "stdout",
     "output_type": "stream",
     "text": [
      "Epoch 1/40\n",
      "242/242 [==============================] - 9s 20ms/step - loss: 5.6914 - accuracy: 0.3203 - val_loss: 1.6684 - val_accuracy: 0.3151\n",
      "\n",
      "Epoch 00001: val_loss improved from inf to 1.66838, saving model to weights.h5\n",
      "Epoch 2/40\n",
      "242/242 [==============================] - 4s 17ms/step - loss: 1.6392 - accuracy: 0.3198 - val_loss: 1.6282 - val_accuracy: 0.3151\n",
      "\n",
      "Epoch 00002: val_loss improved from 1.66838 to 1.62817, saving model to weights.h5\n",
      "Epoch 3/40\n",
      "242/242 [==============================] - 4s 15ms/step - loss: 1.6089 - accuracy: 0.3263 - val_loss: 1.5664 - val_accuracy: 0.3564\n",
      "\n",
      "Epoch 00003: val_loss improved from 1.62817 to 1.56639, saving model to weights.h5\n",
      "Epoch 4/40\n",
      "242/242 [==============================] - 4s 16ms/step - loss: 1.5008 - accuracy: 0.3679 - val_loss: 1.3715 - val_accuracy: 0.4228\n",
      "\n",
      "Epoch 00004: val_loss improved from 1.56639 to 1.37153, saving model to weights.h5\n",
      "Epoch 5/40\n",
      "242/242 [==============================] - 4s 15ms/step - loss: 1.3491 - accuracy: 0.4604 - val_loss: 1.2622 - val_accuracy: 0.5131\n",
      "\n",
      "Epoch 00005: val_loss improved from 1.37153 to 1.26223, saving model to weights.h5\n",
      "Epoch 6/40\n",
      "242/242 [==============================] - 4s 15ms/step - loss: 1.2095 - accuracy: 0.5613 - val_loss: 1.0985 - val_accuracy: 0.6243\n",
      "\n",
      "Epoch 00006: val_loss improved from 1.26223 to 1.09848, saving model to weights.h5\n",
      "Epoch 7/40\n",
      "242/242 [==============================] - 4s 16ms/step - loss: 1.0562 - accuracy: 0.6488 - val_loss: 0.9872 - val_accuracy: 0.6570\n",
      "\n",
      "Epoch 00007: val_loss improved from 1.09848 to 0.98720, saving model to weights.h5\n",
      "Epoch 8/40\n",
      "242/242 [==============================] - 4s 15ms/step - loss: 0.9595 - accuracy: 0.6759 - val_loss: 0.9145 - val_accuracy: 0.6855\n",
      "\n",
      "Epoch 00008: val_loss improved from 0.98720 to 0.91453, saving model to weights.h5\n",
      "Epoch 9/40\n",
      "242/242 [==============================] - 4s 15ms/step - loss: 0.8676 - accuracy: 0.7185 - val_loss: 0.8605 - val_accuracy: 0.7070\n",
      "\n",
      "Epoch 00009: val_loss improved from 0.91453 to 0.86054, saving model to weights.h5\n",
      "Epoch 10/40\n",
      "242/242 [==============================] - 4s 16ms/step - loss: 0.8217 - accuracy: 0.7258 - val_loss: 0.8204 - val_accuracy: 0.7175\n",
      "\n",
      "Epoch 00010: val_loss improved from 0.86054 to 0.82038, saving model to weights.h5\n",
      "Epoch 11/40\n",
      "242/242 [==============================] - 4s 16ms/step - loss: 0.7594 - accuracy: 0.7442 - val_loss: 0.7932 - val_accuracy: 0.7251\n",
      "\n",
      "Epoch 00011: val_loss improved from 0.82038 to 0.79318, saving model to weights.h5\n",
      "Epoch 12/40\n",
      "242/242 [==============================] - 4s 15ms/step - loss: 0.7202 - accuracy: 0.7577 - val_loss: 0.7582 - val_accuracy: 0.7385\n",
      "\n",
      "Epoch 00012: val_loss improved from 0.79318 to 0.75824, saving model to weights.h5\n",
      "Epoch 13/40\n",
      "242/242 [==============================] - 4s 16ms/step - loss: 0.6762 - accuracy: 0.7703 - val_loss: 0.7263 - val_accuracy: 0.7618\n",
      "\n",
      "Epoch 00013: val_loss improved from 0.75824 to 0.72634, saving model to weights.h5\n",
      "Epoch 14/40\n",
      "242/242 [==============================] - 4s 15ms/step - loss: 0.6255 - accuracy: 0.7997 - val_loss: 0.6954 - val_accuracy: 0.7985\n",
      "\n",
      "Epoch 00014: val_loss improved from 0.72634 to 0.69535, saving model to weights.h5\n",
      "Epoch 15/40\n",
      "242/242 [==============================] - 4s 16ms/step - loss: 0.6052 - accuracy: 0.8169 - val_loss: 0.6742 - val_accuracy: 0.8229\n",
      "\n",
      "Epoch 00015: val_loss improved from 0.69535 to 0.67421, saving model to weights.h5\n",
      "Epoch 16/40\n",
      "242/242 [==============================] - 4s 16ms/step - loss: 0.5633 - accuracy: 0.8443 - val_loss: 0.6474 - val_accuracy: 0.8410\n",
      "\n",
      "Epoch 00016: val_loss improved from 0.67421 to 0.64744, saving model to weights.h5\n",
      "Epoch 17/40\n",
      "242/242 [==============================] - 4s 15ms/step - loss: 0.5270 - accuracy: 0.8658 - val_loss: 0.6215 - val_accuracy: 0.8561\n",
      "\n",
      "Epoch 00017: val_loss improved from 0.64744 to 0.62150, saving model to weights.h5\n",
      "Epoch 18/40\n",
      "242/242 [==============================] - 4s 15ms/step - loss: 0.4979 - accuracy: 0.8848 - val_loss: 0.5996 - val_accuracy: 0.8614\n",
      "\n",
      "Epoch 00018: val_loss improved from 0.62150 to 0.59960, saving model to weights.h5\n",
      "Epoch 19/40\n",
      "242/242 [==============================] - 4s 18ms/step - loss: 0.4636 - accuracy: 0.8974 - val_loss: 0.5918 - val_accuracy: 0.8742\n",
      "\n",
      "Epoch 00019: val_loss improved from 0.59960 to 0.59183, saving model to weights.h5\n",
      "Epoch 20/40\n",
      "242/242 [==============================] - 4s 15ms/step - loss: 0.4609 - accuracy: 0.8996 - val_loss: 0.5819 - val_accuracy: 0.8725\n",
      "\n",
      "Epoch 00020: val_loss improved from 0.59183 to 0.58191, saving model to weights.h5\n",
      "Epoch 21/40\n",
      "242/242 [==============================] - 4s 16ms/step - loss: 0.4188 - accuracy: 0.9083 - val_loss: 0.5931 - val_accuracy: 0.8690\n",
      "\n",
      "Epoch 00021: val_loss did not improve from 0.58191\n",
      "Epoch 22/40\n",
      "242/242 [==============================] - 4s 15ms/step - loss: 0.4048 - accuracy: 0.9119 - val_loss: 0.5672 - val_accuracy: 0.8701\n",
      "\n",
      "Epoch 00022: val_loss improved from 0.58191 to 0.56716, saving model to weights.h5\n",
      "Epoch 23/40\n",
      "242/242 [==============================] - 4s 16ms/step - loss: 0.4000 - accuracy: 0.9172 - val_loss: 0.5758 - val_accuracy: 0.8725\n",
      "\n",
      "Epoch 00023: val_loss did not improve from 0.56716\n",
      "Epoch 24/40\n",
      "242/242 [==============================] - 4s 16ms/step - loss: 0.3827 - accuracy: 0.9185 - val_loss: 0.5807 - val_accuracy: 0.8725\n",
      "\n",
      "Epoch 00024: val_loss did not improve from 0.56716\n",
      "Epoch 25/40\n",
      "242/242 [==============================] - 4s 15ms/step - loss: 0.3732 - accuracy: 0.9244 - val_loss: 0.5887 - val_accuracy: 0.8748\n",
      "\n",
      "Epoch 00025: val_loss did not improve from 0.56716\n",
      "Epoch 26/40\n",
      "242/242 [==============================] - 4s 15ms/step - loss: 0.3579 - accuracy: 0.9262 - val_loss: 0.5844 - val_accuracy: 0.8701\n",
      "\n",
      "Epoch 00026: val_loss did not improve from 0.56716\n",
      "Epoch 27/40\n",
      "242/242 [==============================] - 4s 17ms/step - loss: 0.3559 - accuracy: 0.9293 - val_loss: 0.6042 - val_accuracy: 0.8736\n",
      "\n",
      "Epoch 00027: val_loss did not improve from 0.56716\n",
      "Epoch 28/40\n",
      "242/242 [==============================] - 4s 15ms/step - loss: 0.3402 - accuracy: 0.9334 - val_loss: 0.6140 - val_accuracy: 0.8690\n",
      "\n",
      "Epoch 00028: val_loss did not improve from 0.56716\n",
      "Epoch 29/40\n",
      "242/242 [==============================] - 4s 15ms/step - loss: 0.3235 - accuracy: 0.9382 - val_loss: 0.6169 - val_accuracy: 0.8655\n",
      "\n",
      "Epoch 00029: val_loss did not improve from 0.56716\n",
      "Epoch 30/40\n",
      "242/242 [==============================] - 4s 16ms/step - loss: 0.3066 - accuracy: 0.9410 - val_loss: 0.6181 - val_accuracy: 0.8719\n",
      "\n",
      "Epoch 00030: val_loss did not improve from 0.56716\n",
      "Epoch 31/40\n",
      "242/242 [==============================] - 4s 16ms/step - loss: 0.3123 - accuracy: 0.9389 - val_loss: 0.6215 - val_accuracy: 0.8748\n",
      "\n",
      "Epoch 00031: val_loss did not improve from 0.56716\n",
      "Epoch 32/40\n",
      "242/242 [==============================] - 4s 15ms/step - loss: 0.3045 - accuracy: 0.9408 - val_loss: 0.6344 - val_accuracy: 0.8707\n",
      "\n",
      "Epoch 00032: val_loss did not improve from 0.56716\n",
      "Epoch 33/40\n",
      "242/242 [==============================] - 4s 16ms/step - loss: 0.3102 - accuracy: 0.9417 - val_loss: 0.6207 - val_accuracy: 0.8742\n",
      "\n",
      "Epoch 00033: val_loss did not improve from 0.56716\n",
      "Epoch 34/40\n",
      "242/242 [==============================] - 4s 15ms/step - loss: 0.2852 - accuracy: 0.9501 - val_loss: 0.6308 - val_accuracy: 0.8719\n",
      "\n",
      "Epoch 00034: val_loss did not improve from 0.56716\n",
      "Epoch 35/40\n",
      "242/242 [==============================] - 4s 15ms/step - loss: 0.2769 - accuracy: 0.9506 - val_loss: 0.6217 - val_accuracy: 0.8759\n",
      "\n",
      "Epoch 00035: val_loss did not improve from 0.56716\n",
      "Epoch 36/40\n",
      "242/242 [==============================] - 4s 18ms/step - loss: 0.2701 - accuracy: 0.9493 - val_loss: 0.6146 - val_accuracy: 0.8765\n",
      "\n",
      "Epoch 00036: val_loss did not improve from 0.56716\n",
      "Epoch 37/40\n",
      "242/242 [==============================] - 4s 15ms/step - loss: 0.2676 - accuracy: 0.9520 - val_loss: 0.6246 - val_accuracy: 0.8707\n",
      "\n",
      "Epoch 00037: val_loss did not improve from 0.56716\n",
      "Epoch 38/40\n",
      "242/242 [==============================] - 4s 15ms/step - loss: 0.2615 - accuracy: 0.9565 - val_loss: 0.6472 - val_accuracy: 0.8771\n",
      "\n",
      "Epoch 00038: val_loss did not improve from 0.56716\n",
      "Epoch 39/40\n",
      "242/242 [==============================] - 4s 17ms/step - loss: 0.2604 - accuracy: 0.9554 - val_loss: 0.6501 - val_accuracy: 0.8736\n",
      "\n",
      "Epoch 00039: val_loss did not improve from 0.56716\n",
      "Epoch 40/40\n",
      "242/242 [==============================] - 4s 15ms/step - loss: 0.2477 - accuracy: 0.9580 - val_loss: 0.6585 - val_accuracy: 0.8660\n",
      "\n",
      "Epoch 00040: val_loss did not improve from 0.56716\n"
     ]
    }
   ],
   "source": [
    "model_save = ModelCheckpoint('weights.h5', save_best_only = True, save_weights_only = True, monitor = 'val_loss', \n",
    "                             mode = 'min', verbose = 1)\n",
    "history = model.fit(X_train,y_train,validation_data=(X_val,y_val),epochs=40,batch_size=64,callbacks = [model_save])"
   ]
  },
  {
   "cell_type": "markdown",
   "id": "subject-error",
   "metadata": {
    "papermill": {
     "duration": 0.688325,
     "end_time": "2021-05-21T07:00:46.125527",
     "exception": false,
     "start_time": "2021-05-21T07:00:45.437202",
     "status": "completed"
    },
    "tags": []
   },
   "source": [
    "# Analysis and visualization of output"
   ]
  },
  {
   "cell_type": "code",
   "execution_count": 17,
   "id": "stunning-pioneer",
   "metadata": {
    "execution": {
     "iopub.execute_input": "2021-05-21T07:00:47.582286Z",
     "iopub.status.busy": "2021-05-21T07:00:47.578352Z",
     "iopub.status.idle": "2021-05-21T07:00:47.824498Z",
     "shell.execute_reply": "2021-05-21T07:00:47.823605Z",
     "shell.execute_reply.started": "2021-05-21T04:16:37.918913Z"
    },
    "papermill": {
     "duration": 0.985162,
     "end_time": "2021-05-21T07:00:47.824636",
     "exception": false,
     "start_time": "2021-05-21T07:00:46.839474",
     "status": "completed"
    },
    "tags": []
   },
   "outputs": [
    {
     "name": "stdout",
     "output_type": "stream",
     "text": [
      "dict_keys(['loss', 'accuracy', 'val_loss', 'val_accuracy'])\n"
     ]
    },
    {
     "data": {
      "image/png": "[encoded data removed]",
      "text/plain": [
       "<Figure size 432x288 with 1 Axes>"
      ]
     },
     "metadata": {
      "needs_background": "light"
     },
     "output_type": "display_data"
    },
    {
     "data": {
      "image/png": "[encoded data removed]",
      "text/plain": [
       "<Figure size 432x288 with 1 Axes>"
      ]
     },
     "metadata": {
      "needs_background": "light"
     },
     "output_type": "display_data"
    }
   ],
   "source": [
    "print(history.history.keys())\n",
    "#  \"Accuracy\"\n",
    "plt.plot(history.history['accuracy'])\n",
    "plt.plot(history.history['val_accuracy'])\n",
    "plt.title('model accuracy')\n",
    "plt.ylabel('accuracy')\n",
    "plt.xlabel('epoch')\n",
    "plt.legend(['train', 'validation'], loc='upper left')\n",
    "plt.show()\n",
    "# \"Loss\"\n",
    "plt.plot(history.history['loss'])\n",
    "plt.plot(history.history['val_loss'])\n",
    "plt.title('model loss')\n",
    "plt.ylabel('loss')\n",
    "plt.xlabel('epoch')\n",
    "plt.legend(['train', 'validation'], loc='upper left')\n",
    "plt.show()"
   ]
  },
  {
   "cell_type": "code",
   "execution_count": 18,
   "id": "impossible-terror",
   "metadata": {
    "execution": {
     "iopub.execute_input": "2021-05-21T07:00:49.203055Z",
     "iopub.status.busy": "2021-05-21T07:00:49.202070Z",
     "iopub.status.idle": "2021-05-21T07:00:49.209458Z",
     "shell.execute_reply": "2021-05-21T07:00:49.208981Z",
     "shell.execute_reply.started": "2021-05-21T04:16:38.236322Z"
    },
    "papermill": {
     "duration": 0.706252,
     "end_time": "2021-05-21T07:00:49.209624",
     "exception": false,
     "start_time": "2021-05-21T07:00:48.503372",
     "status": "completed"
    },
    "tags": []
   },
   "outputs": [],
   "source": [
    "#Load the best weights\n",
    "model.load_weights('weights.h5')"
   ]
  },
  {
   "cell_type": "code",
   "execution_count": 19,
   "id": "based-principle",
   "metadata": {
    "execution": {
     "iopub.execute_input": "2021-05-21T07:00:50.799776Z",
     "iopub.status.busy": "2021-05-21T07:00:50.799267Z",
     "iopub.status.idle": "2021-05-21T07:00:51.754809Z",
     "shell.execute_reply": "2021-05-21T07:00:51.753971Z",
     "shell.execute_reply.started": "2021-05-21T04:16:38.254292Z"
    },
    "papermill": {
     "duration": 1.69267,
     "end_time": "2021-05-21T07:00:51.754982",
     "exception": false,
     "start_time": "2021-05-21T07:00:50.062312",
     "status": "completed"
    },
    "tags": []
   },
   "outputs": [
    {
     "name": "stderr",
     "output_type": "stream",
     "text": [
      "/opt/conda/lib/python3.7/site-packages/tensorflow/python/keras/engine/sequential.py:450: UserWarning: `model.predict_classes()` is deprecated and will be removed after 2021-01-01. Please use instead:* `np.argmax(model.predict(x), axis=-1)`,   if your model does multi-class classification   (e.g. if it uses a `softmax` last-layer activation).* `(model.predict(x) > 0.5).astype(\"int32\")`,   if your model does binary classification   (e.g. if it uses a `sigmoid` last-layer activation).\n",
      "  warnings.warn('`model.predict_classes()` is deprecated and '\n"
     ]
    },
    {
     "name": "stdout",
     "output_type": "stream",
     "text": [
      "[4 0 4 ... 0 0 2]\n"
     ]
    }
   ],
   "source": [
    "y_pred=model.predict_classes(X_test)\n",
    "print(y_pred)"
   ]
  },
  {
   "cell_type": "code",
   "execution_count": 20,
   "id": "julian-freeware",
   "metadata": {
    "execution": {
     "iopub.execute_input": "2021-05-21T07:00:53.143383Z",
     "iopub.status.busy": "2021-05-21T07:00:53.142696Z",
     "iopub.status.idle": "2021-05-21T07:00:53.146104Z",
     "shell.execute_reply": "2021-05-21T07:00:53.146704Z",
     "shell.execute_reply.started": "2021-05-21T04:16:39.208508Z"
    },
    "papermill": {
     "duration": 0.706579,
     "end_time": "2021-05-21T07:00:53.146964",
     "exception": false,
     "start_time": "2021-05-21T07:00:52.440385",
     "status": "completed"
    },
    "tags": []
   },
   "outputs": [
    {
     "name": "stdout",
     "output_type": "stream",
     "text": [
      "0.8795433364398881\n"
     ]
    }
   ],
   "source": [
    "#Accuracy score\n",
    "print(accuracy_score(y_test,y_pred))"
   ]
  },
  {
   "cell_type": "code",
   "execution_count": 21,
   "id": "fatty-blues",
   "metadata": {
    "execution": {
     "iopub.execute_input": "2021-05-21T07:00:54.507433Z",
     "iopub.status.busy": "2021-05-21T07:00:54.506845Z",
     "iopub.status.idle": "2021-05-21T07:00:54.522183Z",
     "shell.execute_reply": "2021-05-21T07:00:54.522610Z",
     "shell.execute_reply.started": "2021-05-21T04:16:39.217740Z"
    },
    "papermill": {
     "duration": 0.69473,
     "end_time": "2021-05-21T07:00:54.522753",
     "exception": false,
     "start_time": "2021-05-21T07:00:53.828023",
     "status": "completed"
    },
    "tags": []
   },
   "outputs": [
    {
     "name": "stdout",
     "output_type": "stream",
     "text": [
      "              precision    recall  f1-score   support\n",
      "\n",
      "           0    0.86000   0.90600   0.88240       617\n",
      "           1    0.86966   0.76648   0.81481       531\n",
      "           2    0.91832   0.90369   0.91095      1381\n",
      "           3    0.74848   0.77673   0.76235       318\n",
      "           4    0.92846   0.92482   0.92664      1277\n",
      "           5    0.62441   0.79167   0.69816       168\n",
      "\n",
      "    accuracy                        0.87954      4292\n",
      "   macro avg    0.82489   0.84490   0.83255      4292\n",
      "weighted avg    0.88285   0.87954   0.88028      4292\n",
      "\n"
     ]
    }
   ],
   "source": [
    "#Classification report\n",
    "print(classification_report(y_test, y_pred, digits=5))"
   ]
  },
  {
   "cell_type": "code",
   "execution_count": 22,
   "id": "gorgeous-framing",
   "metadata": {
    "execution": {
     "iopub.execute_input": "2021-05-21T07:00:55.916833Z",
     "iopub.status.busy": "2021-05-21T07:00:55.915986Z",
     "iopub.status.idle": "2021-05-21T07:00:56.255308Z",
     "shell.execute_reply": "2021-05-21T07:00:56.254738Z",
     "shell.execute_reply.started": "2021-05-21T04:16:39.238477Z"
    },
    "papermill": {
     "duration": 1.058265,
     "end_time": "2021-05-21T07:00:56.255440",
     "exception": false,
     "start_time": "2021-05-21T07:00:55.197175",
     "status": "completed"
    },
    "tags": []
   },
   "outputs": [
    {
     "name": "stdout",
     "output_type": "stream",
     "text": [
      "Confusion Matrix\n",
      "AxesSubplot(0.125,0.125;0.62x0.755)\n"
     ]
    },
    {
     "data": {
      "image/png": "[encoded data removed]",
      "text/plain": [
       "<Figure size 432x288 with 2 Axes>"
      ]
     },
     "metadata": {
      "needs_background": "light"
     },
     "output_type": "display_data"
    }
   ],
   "source": [
    "#Confusion Matrix\n",
    "print('Confusion Matrix')\n",
    "print(sns.heatmap(confusion_matrix(y_test, y_pred),annot=True,fmt=\"d\"))"
   ]
  },
  {
   "cell_type": "markdown",
   "id": "criminal-shepherd",
   "metadata": {
    "papermill": {
     "duration": 0.677431,
     "end_time": "2021-05-21T07:00:57.634612",
     "exception": false,
     "start_time": "2021-05-21T07:00:56.957181",
     "status": "completed"
    },
    "tags": []
   },
   "source": [
    "# Test on own"
   ]
  },
  {
   "cell_type": "code",
   "execution_count": 23,
   "id": "electric-collection",
   "metadata": {
    "execution": {
     "iopub.execute_input": "2021-05-21T07:00:59.016462Z",
     "iopub.status.busy": "2021-05-21T07:00:59.015801Z",
     "iopub.status.idle": "2021-05-21T07:00:59.018878Z",
     "shell.execute_reply": "2021-05-21T07:00:59.019305Z",
     "shell.execute_reply.started": "2021-05-21T04:16:39.569696Z"
    },
    "papermill": {
     "duration": 0.690345,
     "end_time": "2021-05-21T07:00:59.019444",
     "exception": false,
     "start_time": "2021-05-21T07:00:58.329099",
     "status": "completed"
    },
    "tags": []
   },
   "outputs": [
    {
     "name": "stdout",
     "output_type": "stream",
     "text": [
      "{'anger': 0, 'fear': 1, 'happy': 2, 'love': 3, 'sadness': 4, 'surprise': 5}\n"
     ]
    }
   ],
   "source": [
    "#Mapping of target classes using label-encoder\n",
    "le_name_mapping = dict(zip(label_encoder.classes_, label_encoder.transform(label_encoder.classes_)))\n",
    "print(le_name_mapping)"
   ]
  },
  {
   "cell_type": "code",
   "execution_count": 24,
   "id": "tribal-thriller",
   "metadata": {
    "execution": {
     "iopub.execute_input": "2021-05-21T07:01:00.920477Z",
     "iopub.status.busy": "2021-05-21T07:01:00.918889Z",
     "iopub.status.idle": "2021-05-21T07:01:00.921287Z",
     "shell.execute_reply": "2021-05-21T07:01:00.919665Z",
     "shell.execute_reply.started": "2021-05-21T04:16:39.578443Z"
    },
    "papermill": {
     "duration": 1.216088,
     "end_time": "2021-05-21T07:01:00.921461",
     "exception": false,
     "start_time": "2021-05-21T07:00:59.705373",
     "status": "completed"
    },
    "tags": []
   },
   "outputs": [],
   "source": [
    "#Example\n",
    "def predict_emotion(stri):\n",
    "    review = re.sub('[^a-zA-Z]', ' ', stri)\n",
    "    review = review.lower()\n",
    "    review = review.split()\n",
    "    review = [ps.stem(word) for word in review if not word in stopwords.words('english')]\n",
    "    review = ' '.join(review)\n",
    "    onehot_repr = [one_hot(review,voc_size)] \n",
    "    embed = pad_sequences(onehot_repr,padding='pre',maxlen=sent_length)\n",
    "    predicti = model.predict(embed)\n",
    "    return label_encoder.classes_[np.argmax(predicti)]"
   ]
  },
  {
   "cell_type": "code",
   "execution_count": 25,
   "id": "stupid-sacrifice",
   "metadata": {
    "execution": {
     "iopub.execute_input": "2021-05-21T07:01:02.479998Z",
     "iopub.status.busy": "2021-05-21T07:01:02.479195Z",
     "iopub.status.idle": "2021-05-21T07:01:02.529498Z",
     "shell.execute_reply": "2021-05-21T07:01:02.529039Z",
     "shell.execute_reply.started": "2021-05-21T04:16:39.587872Z"
    },
    "papermill": {
     "duration": 0.739215,
     "end_time": "2021-05-21T07:01:02.529636",
     "exception": false,
     "start_time": "2021-05-21T07:01:01.790421",
     "status": "completed"
    },
    "tags": []
   },
   "outputs": [
    {
     "data": {
      "text/plain": [
       "'happy'"
      ]
     },
     "execution_count": 25,
     "metadata": {},
     "output_type": "execute_result"
    }
   ],
   "source": [
    "predict_emotion('I am very happy and joyful today')"
   ]
  },
  {
   "cell_type": "code",
   "execution_count": 26,
   "id": "every-premium",
   "metadata": {
    "execution": {
     "iopub.execute_input": "2021-05-21T07:01:03.926786Z",
     "iopub.status.busy": "2021-05-21T07:01:03.925959Z",
     "iopub.status.idle": "2021-05-21T07:01:03.966415Z",
     "shell.execute_reply": "2021-05-21T07:01:03.965961Z",
     "shell.execute_reply.started": "2021-05-21T04:16:39.647178Z"
    },
    "papermill": {
     "duration": 0.760365,
     "end_time": "2021-05-21T07:01:03.966535",
     "exception": false,
     "start_time": "2021-05-21T07:01:03.206170",
     "status": "completed"
    },
    "tags": []
   },
   "outputs": [
    {
     "data": {
      "text/plain": [
       "'anger'"
      ]
     },
     "execution_count": 26,
     "metadata": {},
     "output_type": "execute_result"
    }
   ],
   "source": [
    "predict_emotion('He is an arrogant and rude person')"
   ]
  },
  {
   "cell_type": "code",
   "execution_count": 27,
   "id": "worth-stanford",
   "metadata": {
    "execution": {
     "iopub.execute_input": "2021-05-21T07:01:05.333438Z",
     "iopub.status.busy": "2021-05-21T07:01:05.332580Z",
     "iopub.status.idle": "2021-05-21T07:01:05.371917Z",
     "shell.execute_reply": "2021-05-21T07:01:05.372539Z",
     "shell.execute_reply.started": "2021-05-21T04:16:39.693387Z"
    },
    "papermill": {
     "duration": 0.727857,
     "end_time": "2021-05-21T07:01:05.372684",
     "exception": false,
     "start_time": "2021-05-21T07:01:04.644827",
     "status": "completed"
    },
    "tags": []
   },
   "outputs": [
    {
     "data": {
      "text/plain": [
       "'fear'"
      ]
     },
     "execution_count": 27,
     "metadata": {},
     "output_type": "execute_result"
    }
   ],
   "source": [
    "predict_emotion('The teacher is intimidating and scary')"
   ]
  }
 ],
 "metadata": {
  "kernelspec": {
   "display_name": "Python 3",
   "language": "python",
   "name": "python3"
  },
  "language_info": {
   "codemirror_mode": {
    "name": "ipython",
    "version": 3
   },
   "file_extension": ".py",
   "mimetype": "text/x-python",
   "name": "python",
   "nbconvert_exporter": "python",
   "pygments_lexer": "ipython3",
   "version": "3.8.5"
  },
  "papermill": {
   "default_parameters": {},
   "duration": 270.006212,
   "end_time": "2021-05-21T07:01:08.314539",
   "environment_variables": {},
   "exception": null,
   "input_path": "__notebook__.ipynb",
   "output_path": "__notebook__.ipynb",
   "parameters": {},
   "start_time": "2021-05-21T06:56:38.308327",
   "version": "2.3.3"
  }
 },
 "nbformat": 4,
 "nbformat_minor": 5
}
