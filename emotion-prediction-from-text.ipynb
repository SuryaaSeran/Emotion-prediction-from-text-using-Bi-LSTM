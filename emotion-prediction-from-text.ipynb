{
 "cells": [
  {
   "cell_type": "code",
   "execution_count": 1,
   "id": "alleged-visiting",
   "metadata": {
    "_cell_guid": "b1076dfc-b9ad-4769-8c92-a6c4dae69d19",
    "_uuid": "8f2839f25d086af736a60e9eeb907d3b93b6e0e5",
    "execution": {
     "iopub.execute_input": "2021-05-20T20:03:51.683690Z",
     "iopub.status.busy": "2021-05-20T20:03:51.682199Z",
     "iopub.status.idle": "2021-05-20T20:03:57.744935Z",
     "shell.execute_reply": "2021-05-20T20:03:57.744373Z",
     "shell.execute_reply.started": "2021-05-20T19:07:30.175262Z"
    },
    "papermill": {
     "duration": 6.088222,
     "end_time": "2021-05-20T20:03:57.745116",
     "exception": false,
     "start_time": "2021-05-20T20:03:51.656894",
     "status": "completed"
    },
    "tags": []
   },
   "outputs": [],
   "source": [
    "import numpy as np\n",
    "import pandas as pd \n",
    "import tensorflow as tf\n",
    "import nltk\n",
    "import seaborn as sns\n",
    "import re\n",
    "import matplotlib.pyplot as plt\n",
    "\n",
    "from tensorflow.keras.layers import Embedding, Dense, LSTM, Dropout, Bidirectional\n",
    "from tensorflow.keras.preprocessing.sequence import pad_sequences\n",
    "from tensorflow.keras.models import Sequential\n",
    "from tensorflow.keras.preprocessing.text import one_hot\n",
    "from tensorflow.keras.callbacks import ModelCheckpoint\n",
    "from nltk.corpus import stopwords\n",
    "from sklearn import preprocessing\n",
    "from sklearn.model_selection import train_test_split\n",
    "from sklearn.metrics import accuracy_score, classification_report, confusion_matrix\n",
    "\n"
   ]
  },
  {
   "cell_type": "code",
   "execution_count": 2,
   "id": "descending-stable",
   "metadata": {
    "execution": {
     "iopub.execute_input": "2021-05-20T20:03:57.798499Z",
     "iopub.status.busy": "2021-05-20T20:03:57.797855Z",
     "iopub.status.idle": "2021-05-20T20:03:57.878421Z",
     "shell.execute_reply": "2021-05-20T20:03:57.878788Z",
     "shell.execute_reply.started": "2021-05-20T19:07:30.184144Z"
    },
    "papermill": {
     "duration": 0.112392,
     "end_time": "2021-05-20T20:03:57.878924",
     "exception": false,
     "start_time": "2021-05-20T20:03:57.766532",
     "status": "completed"
    },
    "tags": []
   },
   "outputs": [
    {
     "data": {
      "text/html": [
       "<div>\n",
       "<style scoped>\n",
       "    .dataframe tbody tr th:only-of-type {\n",
       "        vertical-align: middle;\n",
       "    }\n",
       "\n",
       "    .dataframe tbody tr th {\n",
       "        vertical-align: top;\n",
       "    }\n",
       "\n",
       "    .dataframe thead th {\n",
       "        text-align: right;\n",
       "    }\n",
       "</style>\n",
       "<table border=\"1\" class=\"dataframe\">\n",
       "  <thead>\n",
       "    <tr style=\"text-align: right;\">\n",
       "      <th></th>\n",
       "      <th>Text</th>\n",
       "      <th>Emotion</th>\n",
       "    </tr>\n",
       "  </thead>\n",
       "  <tbody>\n",
       "    <tr>\n",
       "      <th>0</th>\n",
       "      <td>i didnt feel humiliated</td>\n",
       "      <td>sadness</td>\n",
       "    </tr>\n",
       "    <tr>\n",
       "      <th>1</th>\n",
       "      <td>i can go from feeling so hopeless to so damned...</td>\n",
       "      <td>sadness</td>\n",
       "    </tr>\n",
       "    <tr>\n",
       "      <th>2</th>\n",
       "      <td>im grabbing a minute to post i feel greedy wrong</td>\n",
       "      <td>anger</td>\n",
       "    </tr>\n",
       "    <tr>\n",
       "      <th>3</th>\n",
       "      <td>i am ever feeling nostalgic about the fireplac...</td>\n",
       "      <td>love</td>\n",
       "    </tr>\n",
       "    <tr>\n",
       "      <th>4</th>\n",
       "      <td>i am feeling grouchy</td>\n",
       "      <td>anger</td>\n",
       "    </tr>\n",
       "  </tbody>\n",
       "</table>\n",
       "</div>"
      ],
      "text/plain": [
       "                                                Text  Emotion\n",
       "0                            i didnt feel humiliated  sadness\n",
       "1  i can go from feeling so hopeless to so damned...  sadness\n",
       "2   im grabbing a minute to post i feel greedy wrong    anger\n",
       "3  i am ever feeling nostalgic about the fireplac...     love\n",
       "4                               i am feeling grouchy    anger"
      ]
     },
     "execution_count": 2,
     "metadata": {},
     "output_type": "execute_result"
    }
   ],
   "source": [
    "df=pd.read_csv('../input/emotions-in-text/Emotion_final.csv')\n",
    "df.head()"
   ]
  },
  {
   "cell_type": "code",
   "execution_count": 3,
   "id": "genuine-admission",
   "metadata": {
    "execution": {
     "iopub.execute_input": "2021-05-20T20:03:57.927089Z",
     "iopub.status.busy": "2021-05-20T20:03:57.925820Z",
     "iopub.status.idle": "2021-05-20T20:03:57.930731Z",
     "shell.execute_reply": "2021-05-20T20:03:57.930340Z",
     "shell.execute_reply.started": "2021-05-20T19:07:30.234836Z"
    },
    "papermill": {
     "duration": 0.03056,
     "end_time": "2021-05-20T20:03:57.930834",
     "exception": false,
     "start_time": "2021-05-20T20:03:57.900274",
     "status": "completed"
    },
    "tags": []
   },
   "outputs": [
    {
     "data": {
      "text/plain": [
       "array(['sadness', 'anger', 'love', 'surprise', 'fear', 'happy'],\n",
       "      dtype=object)"
      ]
     },
     "execution_count": 3,
     "metadata": {},
     "output_type": "execute_result"
    }
   ],
   "source": [
    "df['Emotion'].unique()"
   ]
  },
  {
   "cell_type": "code",
   "execution_count": 4,
   "id": "italic-operator",
   "metadata": {
    "execution": {
     "iopub.execute_input": "2021-05-20T20:03:57.979763Z",
     "iopub.status.busy": "2021-05-20T20:03:57.979189Z",
     "iopub.status.idle": "2021-05-20T20:03:57.996190Z",
     "shell.execute_reply": "2021-05-20T20:03:57.995767Z",
     "shell.execute_reply.started": "2021-05-20T19:07:30.244846Z"
    },
    "papermill": {
     "duration": 0.044632,
     "end_time": "2021-05-20T20:03:57.996298",
     "exception": false,
     "start_time": "2021-05-20T20:03:57.951666",
     "status": "completed"
    },
    "tags": []
   },
   "outputs": [],
   "source": [
    "df=df.dropna()"
   ]
  },
  {
   "cell_type": "code",
   "execution_count": 5,
   "id": "going-february",
   "metadata": {
    "execution": {
     "iopub.execute_input": "2021-05-20T20:03:58.043206Z",
     "iopub.status.busy": "2021-05-20T20:03:58.042658Z",
     "iopub.status.idle": "2021-05-20T20:03:58.046372Z",
     "shell.execute_reply": "2021-05-20T20:03:58.045959Z",
     "shell.execute_reply.started": "2021-05-20T19:07:30.258529Z"
    },
    "papermill": {
     "duration": 0.02934,
     "end_time": "2021-05-20T20:03:58.046485",
     "exception": false,
     "start_time": "2021-05-20T20:03:58.017145",
     "status": "completed"
    },
    "tags": []
   },
   "outputs": [],
   "source": [
    "X=df.drop('Emotion',axis=1)\n",
    "y=df['Emotion']"
   ]
  },
  {
   "cell_type": "code",
   "execution_count": 6,
   "id": "herbal-democrat",
   "metadata": {
    "execution": {
     "iopub.execute_input": "2021-05-20T20:03:58.090858Z",
     "iopub.status.busy": "2021-05-20T20:03:58.090378Z",
     "iopub.status.idle": "2021-05-20T20:03:58.094349Z",
     "shell.execute_reply": "2021-05-20T20:03:58.093912Z",
     "shell.execute_reply.started": "2021-05-20T19:07:30.270284Z"
    },
    "papermill": {
     "duration": 0.027437,
     "end_time": "2021-05-20T20:03:58.094461",
     "exception": false,
     "start_time": "2021-05-20T20:03:58.067024",
     "status": "completed"
    },
    "tags": []
   },
   "outputs": [],
   "source": [
    "### Vocabulary size\n",
    "voc_size=10000"
   ]
  },
  {
   "cell_type": "code",
   "execution_count": 7,
   "id": "generous-coast",
   "metadata": {
    "execution": {
     "iopub.execute_input": "2021-05-20T20:03:58.141476Z",
     "iopub.status.busy": "2021-05-20T20:03:58.140277Z",
     "iopub.status.idle": "2021-05-20T20:03:58.142518Z",
     "shell.execute_reply": "2021-05-20T20:03:58.142911Z",
     "shell.execute_reply.started": "2021-05-20T19:07:30.280990Z"
    },
    "papermill": {
     "duration": 0.027879,
     "end_time": "2021-05-20T20:03:58.143020",
     "exception": false,
     "start_time": "2021-05-20T20:03:58.115141",
     "status": "completed"
    },
    "tags": []
   },
   "outputs": [],
   "source": [
    "messages=X.copy()\n",
    "messages.reset_index(inplace=True)"
   ]
  },
  {
   "cell_type": "code",
   "execution_count": 8,
   "id": "considered-depth",
   "metadata": {
    "execution": {
     "iopub.execute_input": "2021-05-20T20:03:58.194059Z",
     "iopub.status.busy": "2021-05-20T20:03:58.193479Z",
     "iopub.status.idle": "2021-05-20T20:03:58.344886Z",
     "shell.execute_reply": "2021-05-20T20:03:58.344441Z",
     "shell.execute_reply.started": "2021-05-20T19:07:30.289790Z"
    },
    "papermill": {
     "duration": 0.181337,
     "end_time": "2021-05-20T20:03:58.344995",
     "exception": false,
     "start_time": "2021-05-20T20:03:58.163658",
     "status": "completed"
    },
    "tags": []
   },
   "outputs": [
    {
     "name": "stdout",
     "output_type": "stream",
     "text": [
      "[nltk_data] Downloading package stopwords to /usr/share/nltk_data...\n",
      "[nltk_data]   Package stopwords is already up-to-date!\n"
     ]
    },
    {
     "data": {
      "text/plain": [
       "True"
      ]
     },
     "execution_count": 8,
     "metadata": {},
     "output_type": "execute_result"
    }
   ],
   "source": [
    "nltk.download('stopwords')"
   ]
  },
  {
   "cell_type": "code",
   "execution_count": 9,
   "id": "charitable-sequence",
   "metadata": {
    "execution": {
     "iopub.execute_input": "2021-05-20T20:03:58.393867Z",
     "iopub.status.busy": "2021-05-20T20:03:58.393295Z",
     "iopub.status.idle": "2021-05-20T20:04:47.991534Z",
     "shell.execute_reply": "2021-05-20T20:04:47.990476Z",
     "shell.execute_reply.started": "2021-05-20T19:07:30.303545Z"
    },
    "papermill": {
     "duration": 49.625236,
     "end_time": "2021-05-20T20:04:47.991699",
     "exception": false,
     "start_time": "2021-05-20T20:03:58.366463",
     "status": "completed"
    },
    "tags": []
   },
   "outputs": [],
   "source": [
    "from nltk.stem.porter import PorterStemmer\n",
    "ps = PorterStemmer()\n",
    "corpus = []\n",
    "for i in range(0, len(messages)):\n",
    "    review = re.sub('[^a-zA-Z]', ' ', messages['Text'][i])\n",
    "    review = review.lower()\n",
    "    review = review.split()\n",
    "    review = [ps.stem(word) for word in review if not word in stopwords.words('english')]\n",
    "    review = ' '.join(review)\n",
    "    corpus.append(review)"
   ]
  },
  {
   "cell_type": "code",
   "execution_count": 10,
   "id": "interstate-coating",
   "metadata": {
    "execution": {
     "iopub.execute_input": "2021-05-20T20:04:48.041976Z",
     "iopub.status.busy": "2021-05-20T20:04:48.041282Z",
     "iopub.status.idle": "2021-05-20T20:04:48.044493Z",
     "shell.execute_reply": "2021-05-20T20:04:48.044876Z",
     "shell.execute_reply.started": "2021-05-20T19:08:21.069094Z"
    },
    "papermill": {
     "duration": 0.030115,
     "end_time": "2021-05-20T20:04:48.045008",
     "exception": false,
     "start_time": "2021-05-20T20:04:48.014893",
     "status": "completed"
    },
    "tags": []
   },
   "outputs": [
    {
     "data": {
      "text/plain": [
       "['didnt feel humili',\n",
       " 'go feel hopeless damn hope around someon care awak',\n",
       " 'im grab minut post feel greedi wrong',\n",
       " 'ever feel nostalg fireplac know still properti',\n",
       " 'feel grouchi',\n",
       " 'ive feel littl burden late wasnt sure',\n",
       " 'ive take milligram time recommend amount ive fallen asleep lot faster also feel like funni',\n",
       " 'feel confus life teenag jade year old man',\n",
       " 'petrona year feel petrona perform well made huge profit',\n",
       " 'feel romant']"
      ]
     },
     "execution_count": 10,
     "metadata": {},
     "output_type": "execute_result"
    }
   ],
   "source": [
    "corpus[:10]"
   ]
  },
  {
   "cell_type": "code",
   "execution_count": 11,
   "id": "painted-sussex",
   "metadata": {
    "execution": {
     "iopub.execute_input": "2021-05-20T20:04:48.129152Z",
     "iopub.status.busy": "2021-05-20T20:04:48.113852Z",
     "iopub.status.idle": "2021-05-20T20:04:48.349678Z",
     "shell.execute_reply": "2021-05-20T20:04:48.350158Z",
     "shell.execute_reply.started": "2021-05-20T19:08:21.077379Z"
    },
    "papermill": {
     "duration": 0.283581,
     "end_time": "2021-05-20T20:04:48.350321",
     "exception": false,
     "start_time": "2021-05-20T20:04:48.066740",
     "status": "completed"
    },
    "tags": []
   },
   "outputs": [],
   "source": [
    "onehot_repr=[one_hot(words,voc_size)for words in corpus] "
   ]
  },
  {
   "cell_type": "code",
   "execution_count": 12,
   "id": "composed-opposition",
   "metadata": {
    "execution": {
     "iopub.execute_input": "2021-05-20T20:04:48.417958Z",
     "iopub.status.busy": "2021-05-20T20:04:48.408025Z",
     "iopub.status.idle": "2021-05-20T20:04:48.422674Z",
     "shell.execute_reply": "2021-05-20T20:04:48.422248Z",
     "shell.execute_reply.started": "2021-05-20T19:08:21.338400Z"
    },
    "papermill": {
     "duration": 0.04953,
     "end_time": "2021-05-20T20:04:48.422786",
     "exception": false,
     "start_time": "2021-05-20T20:04:48.373256",
     "status": "completed"
    },
    "tags": []
   },
   "outputs": [
    {
     "name": "stdout",
     "output_type": "stream",
     "text": [
      "35\n"
     ]
    }
   ],
   "source": [
    "#Finding max words\n",
    "l = 0\n",
    "for x in corpus:\n",
    "    l = max(l,len(x.split(' ')))\n",
    "print(l)"
   ]
  },
  {
   "cell_type": "code",
   "execution_count": 13,
   "id": "precious-equation",
   "metadata": {
    "execution": {
     "iopub.execute_input": "2021-05-20T20:04:48.475118Z",
     "iopub.status.busy": "2021-05-20T20:04:48.474340Z",
     "iopub.status.idle": "2021-05-20T20:04:48.623648Z",
     "shell.execute_reply": "2021-05-20T20:04:48.624111Z",
     "shell.execute_reply.started": "2021-05-20T19:08:21.366981Z"
    },
    "papermill": {
     "duration": 0.17869,
     "end_time": "2021-05-20T20:04:48.624244",
     "exception": false,
     "start_time": "2021-05-20T20:04:48.445554",
     "status": "completed"
    },
    "tags": []
   },
   "outputs": [
    {
     "name": "stdout",
     "output_type": "stream",
     "text": [
      "[[   0    0    0 ... 3467 3968 8561]\n",
      " [   0    0    0 ...   99  257 3303]\n",
      " [   0    0    0 ... 3968 7893 1537]\n",
      " ...\n",
      " [   0    0    0 ... 8127 7954  572]\n",
      " [   0    0    0 ...  377  572 9758]\n",
      " [   0    0    0 ...    0  572 7869]]\n"
     ]
    }
   ],
   "source": [
    "sent_length=35\n",
    "embedded_docs=pad_sequences(onehot_repr,padding='pre',maxlen=sent_length)\n",
    "print(embedded_docs)"
   ]
  },
  {
   "cell_type": "code",
   "execution_count": 14,
   "id": "crude-queens",
   "metadata": {
    "execution": {
     "iopub.execute_input": "2021-05-20T20:04:48.676014Z",
     "iopub.status.busy": "2021-05-20T20:04:48.675249Z",
     "iopub.status.idle": "2021-05-20T20:04:48.678569Z",
     "shell.execute_reply": "2021-05-20T20:04:48.678965Z",
     "shell.execute_reply.started": "2021-05-20T19:08:21.526715Z"
    },
    "papermill": {
     "duration": 0.030805,
     "end_time": "2021-05-20T20:04:48.679096",
     "exception": false,
     "start_time": "2021-05-20T20:04:48.648291",
     "status": "completed"
    },
    "tags": []
   },
   "outputs": [
    {
     "data": {
      "text/plain": [
       "array([   0,    0,    0,    0,    0,    0,    0,    0,    0,    0,    0,\n",
       "          0,    0,    0,    0,    0,    0,    0,    0,    0,    0,    0,\n",
       "          0,    0,    0,    0,    0,    0,    0,    0,    0,    0, 3467,\n",
       "       3968, 8561], dtype=int32)"
      ]
     },
     "execution_count": 14,
     "metadata": {},
     "output_type": "execute_result"
    }
   ],
   "source": [
    "embedded_docs[0]"
   ]
  },
  {
   "cell_type": "code",
   "execution_count": 15,
   "id": "grand-drive",
   "metadata": {
    "execution": {
     "iopub.execute_input": "2021-05-20T20:04:48.732495Z",
     "iopub.status.busy": "2021-05-20T20:04:48.731951Z",
     "iopub.status.idle": "2021-05-20T20:04:51.385624Z",
     "shell.execute_reply": "2021-05-20T20:04:51.385206Z",
     "shell.execute_reply.started": "2021-05-20T19:08:21.536258Z"
    },
    "papermill": {
     "duration": 2.682812,
     "end_time": "2021-05-20T20:04:51.385742",
     "exception": false,
     "start_time": "2021-05-20T20:04:48.702930",
     "status": "completed"
    },
    "tags": []
   },
   "outputs": [
    {
     "name": "stdout",
     "output_type": "stream",
     "text": [
      "Model: \"sequential\"\n",
      "_________________________________________________________________\n",
      "Layer (type)                 Output Shape              Param #   \n",
      "=================================================================\n",
      "embedding (Embedding)        (None, 35, 100)           1000000   \n",
      "_________________________________________________________________\n",
      "dropout (Dropout)            (None, 35, 100)           0         \n",
      "_________________________________________________________________\n",
      "bidirectional (Bidirectional (None, 128)               84480     \n",
      "_________________________________________________________________\n",
      "dropout_1 (Dropout)          (None, 128)               0         \n",
      "_________________________________________________________________\n",
      "dense (Dense)                (None, 64)                8256      \n",
      "_________________________________________________________________\n",
      "dropout_2 (Dropout)          (None, 64)                0         \n",
      "_________________________________________________________________\n",
      "dense_1 (Dense)              (None, 6)                 390       \n",
      "=================================================================\n",
      "Total params: 1,093,126\n",
      "Trainable params: 1,093,126\n",
      "Non-trainable params: 0\n",
      "_________________________________________________________________\n"
     ]
    }
   ],
   "source": [
    "# Creating model\n",
    "embedding_vector_features=100\n",
    "model=Sequential()\n",
    "model.add(Embedding(voc_size,embedding_vector_features,input_length=sent_length))\n",
    "model.add(Dropout(0.3))\n",
    "model.add(Bidirectional(LSTM(64)))\n",
    "model.add(Dropout(0.3))\n",
    "model.add(Dense(64, activation='relu',kernel_regularizer=tf.keras.regularizers.l1(0.01)))\n",
    "model.add(Dropout(0.3))\n",
    "model.add(Dense(6,activation='softmax'))\n",
    "model.compile(loss='sparse_categorical_crossentropy',optimizer= tf.keras.optimizers.Adam(learning_rate=0.01),\n",
    "              metrics=['accuracy'])\n",
    "model.summary()"
   ]
  },
  {
   "cell_type": "code",
   "execution_count": 16,
   "id": "warming-supply",
   "metadata": {
    "execution": {
     "iopub.execute_input": "2021-05-20T20:04:51.436664Z",
     "iopub.status.busy": "2021-05-20T20:04:51.435787Z",
     "iopub.status.idle": "2021-05-20T20:04:51.448469Z",
     "shell.execute_reply": "2021-05-20T20:04:51.447855Z",
     "shell.execute_reply.started": "2021-05-20T19:08:21.978936Z"
    },
    "papermill": {
     "duration": 0.039785,
     "end_time": "2021-05-20T20:04:51.448611",
     "exception": false,
     "start_time": "2021-05-20T20:04:51.408826",
     "status": "completed"
    },
    "tags": []
   },
   "outputs": [
    {
     "name": "stdout",
     "output_type": "stream",
     "text": [
      "[4 4 0 ... 1 1 1]\n"
     ]
    }
   ],
   "source": [
    "label_encoder = preprocessing.LabelEncoder()\n",
    "\n",
    "X_final=np.array(embedded_docs)\n",
    "y = label_encoder.fit_transform(y)\n",
    "y_final=np.array(y)\n",
    "print(y_final)"
   ]
  },
  {
   "cell_type": "code",
   "execution_count": 17,
   "id": "hired-peoples",
   "metadata": {
    "execution": {
     "iopub.execute_input": "2021-05-20T20:04:51.499247Z",
     "iopub.status.busy": "2021-05-20T20:04:51.498727Z",
     "iopub.status.idle": "2021-05-20T20:04:51.503974Z",
     "shell.execute_reply": "2021-05-20T20:04:51.504355Z",
     "shell.execute_reply.started": "2021-05-20T19:08:21.995549Z"
    },
    "papermill": {
     "duration": 0.032108,
     "end_time": "2021-05-20T20:04:51.504485",
     "exception": false,
     "start_time": "2021-05-20T20:04:51.472377",
     "status": "completed"
    },
    "tags": []
   },
   "outputs": [
    {
     "data": {
      "text/plain": [
       "((21459, 35), (21459,))"
      ]
     },
     "execution_count": 17,
     "metadata": {},
     "output_type": "execute_result"
    }
   ],
   "source": [
    "X_final.shape,y_final.shape"
   ]
  },
  {
   "cell_type": "code",
   "execution_count": 18,
   "id": "controversial-anger",
   "metadata": {
    "execution": {
     "iopub.execute_input": "2021-05-20T20:04:51.556428Z",
     "iopub.status.busy": "2021-05-20T20:04:51.555712Z",
     "iopub.status.idle": "2021-05-20T20:04:51.565307Z",
     "shell.execute_reply": "2021-05-20T20:04:51.565683Z",
     "shell.execute_reply.started": "2021-05-20T19:08:22.003406Z"
    },
    "papermill": {
     "duration": 0.037971,
     "end_time": "2021-05-20T20:04:51.565805",
     "exception": false,
     "start_time": "2021-05-20T20:04:51.527834",
     "status": "completed"
    },
    "tags": []
   },
   "outputs": [],
   "source": [
    "X_train, X_test, y_train, y_test = train_test_split(X_final, y_final, test_size=0.2, random_state=42)\n",
    "X_train, X_val, y_train, y_val = train_test_split(X_train, y_train, test_size=0.1, random_state=21)"
   ]
  },
  {
   "cell_type": "code",
   "execution_count": 19,
   "id": "differential-conducting",
   "metadata": {
    "execution": {
     "iopub.execute_input": "2021-05-20T20:04:51.617332Z",
     "iopub.status.busy": "2021-05-20T20:04:51.616839Z",
     "iopub.status.idle": "2021-05-20T20:05:08.517458Z",
     "shell.execute_reply": "2021-05-20T20:05:08.517898Z",
     "shell.execute_reply.started": "2021-05-20T19:08:22.020203Z"
    },
    "papermill": {
     "duration": 16.928697,
     "end_time": "2021-05-20T20:05:08.518086",
     "exception": false,
     "start_time": "2021-05-20T20:04:51.589389",
     "status": "completed"
    },
    "tags": []
   },
   "outputs": [
    {
     "name": "stdout",
     "output_type": "stream",
     "text": [
      "Epoch 1/10\n",
      "61/61 [==============================] - 7s 40ms/step - loss: 4.2209 - accuracy: 0.3521 - val_loss: 1.3459 - val_accuracy: 0.6139\n",
      "\n",
      "Epoch 00001: val_loss improved from inf to 1.34588, saving model to weights.h5\n",
      "Epoch 2/10\n",
      "61/61 [==============================] - 1s 18ms/step - loss: 1.1585 - accuracy: 0.6985 - val_loss: 0.9235 - val_accuracy: 0.7863\n",
      "\n",
      "Epoch 00002: val_loss improved from 1.34588 to 0.92353, saving model to weights.h5\n",
      "Epoch 3/10\n",
      "61/61 [==============================] - 1s 18ms/step - loss: 0.7862 - accuracy: 0.8397 - val_loss: 0.8159 - val_accuracy: 0.8154\n",
      "\n",
      "Epoch 00003: val_loss improved from 0.92353 to 0.81586, saving model to weights.h5\n",
      "Epoch 4/10\n",
      "61/61 [==============================] - 1s 21ms/step - loss: 0.6610 - accuracy: 0.8773 - val_loss: 0.8469 - val_accuracy: 0.8218\n",
      "\n",
      "Epoch 00004: val_loss did not improve from 0.81586\n",
      "Epoch 5/10\n",
      "61/61 [==============================] - 1s 17ms/step - loss: 0.6009 - accuracy: 0.8955 - val_loss: 0.8092 - val_accuracy: 0.8206\n",
      "\n",
      "Epoch 00005: val_loss improved from 0.81586 to 0.80921, saving model to weights.h5\n",
      "Epoch 6/10\n",
      "61/61 [==============================] - 1s 17ms/step - loss: 0.5724 - accuracy: 0.8976 - val_loss: 0.8382 - val_accuracy: 0.8224\n",
      "\n",
      "Epoch 00006: val_loss did not improve from 0.80921\n",
      "Epoch 7/10\n",
      "61/61 [==============================] - 1s 17ms/step - loss: 0.5319 - accuracy: 0.9074 - val_loss: 0.8929 - val_accuracy: 0.8113\n",
      "\n",
      "Epoch 00007: val_loss did not improve from 0.80921\n",
      "Epoch 8/10\n",
      "61/61 [==============================] - 1s 18ms/step - loss: 0.5092 - accuracy: 0.9170 - val_loss: 0.9293 - val_accuracy: 0.8369\n",
      "\n",
      "Epoch 00008: val_loss did not improve from 0.80921\n",
      "Epoch 9/10\n",
      "61/61 [==============================] - 1s 17ms/step - loss: 0.4850 - accuracy: 0.9277 - val_loss: 0.8746 - val_accuracy: 0.8299\n",
      "\n",
      "Epoch 00009: val_loss did not improve from 0.80921\n",
      "Epoch 10/10\n",
      "61/61 [==============================] - 1s 17ms/step - loss: 0.4689 - accuracy: 0.9405 - val_loss: 0.8802 - val_accuracy: 0.8363\n",
      "\n",
      "Epoch 00010: val_loss did not improve from 0.80921\n"
     ]
    }
   ],
   "source": [
    "model_save = ModelCheckpoint('weights.h5', save_best_only = True, save_weights_only = True, monitor = 'val_loss', \n",
    "                             mode = 'min', verbose = 1)\n",
    "history = model.fit(X_train,y_train,validation_data=(X_val,y_val),epochs=10,batch_size=256,callbacks = [model_save])"
   ]
  },
  {
   "cell_type": "code",
   "execution_count": 20,
   "id": "sealed-black",
   "metadata": {
    "execution": {
     "iopub.execute_input": "2021-05-20T20:05:08.680359Z",
     "iopub.status.busy": "2021-05-20T20:05:08.679598Z",
     "iopub.status.idle": "2021-05-20T20:05:08.919786Z",
     "shell.execute_reply": "2021-05-20T20:05:08.920233Z",
     "shell.execute_reply.started": "2021-05-20T19:08:37.080367Z"
    },
    "papermill": {
     "duration": 0.330684,
     "end_time": "2021-05-20T20:05:08.920376",
     "exception": false,
     "start_time": "2021-05-20T20:05:08.589692",
     "status": "completed"
    },
    "tags": []
   },
   "outputs": [
    {
     "name": "stdout",
     "output_type": "stream",
     "text": [
      "dict_keys(['loss', 'accuracy', 'val_loss', 'val_accuracy'])\n"
     ]
    },
    {
     "data": {
      "image/png": "[encoded data removed]",
      "text/plain": [
       "<Figure size 432x288 with 1 Axes>"
      ]
     },
     "metadata": {
      "needs_background": "light"
     },
     "output_type": "display_data"
    },
    {
     "data": {
      "image/png": "[encoded data removed]",
      "text/plain": [
       "<Figure size 432x288 with 1 Axes>"
      ]
     },
     "metadata": {
      "needs_background": "light"
     },
     "output_type": "display_data"
    }
   ],
   "source": [
    "print(history.history.keys())\n",
    "#  \"Accuracy\"\n",
    "plt.plot(history.history['accuracy'])\n",
    "plt.plot(history.history['val_accuracy'])\n",
    "plt.title('model accuracy')\n",
    "plt.ylabel('accuracy')\n",
    "plt.xlabel('epoch')\n",
    "plt.legend(['train', 'validation'], loc='upper left')\n",
    "plt.show()\n",
    "# \"Loss\"\n",
    "plt.plot(history.history['loss'])\n",
    "plt.plot(history.history['val_loss'])\n",
    "plt.title('model loss')\n",
    "plt.ylabel('loss')\n",
    "plt.xlabel('epoch')\n",
    "plt.legend(['train', 'validation'], loc='upper left')\n",
    "plt.show()"
   ]
  },
  {
   "cell_type": "code",
   "execution_count": 21,
   "id": "growing-division",
   "metadata": {
    "execution": {
     "iopub.execute_input": "2021-05-20T20:05:09.077461Z",
     "iopub.status.busy": "2021-05-20T20:05:09.076548Z",
     "iopub.status.idle": "2021-05-20T20:05:09.083528Z",
     "shell.execute_reply": "2021-05-20T20:05:09.083119Z",
     "shell.execute_reply.started": "2021-05-20T19:08:37.432392Z"
    },
    "papermill": {
     "duration": 0.090643,
     "end_time": "2021-05-20T20:05:09.083639",
     "exception": false,
     "start_time": "2021-05-20T20:05:08.992996",
     "status": "completed"
    },
    "tags": []
   },
   "outputs": [],
   "source": [
    "model.load_weights('weights.h5')"
   ]
  },
  {
   "cell_type": "code",
   "execution_count": 22,
   "id": "chubby-drama",
   "metadata": {
    "execution": {
     "iopub.execute_input": "2021-05-20T20:05:09.231150Z",
     "iopub.status.busy": "2021-05-20T20:05:09.230621Z",
     "iopub.status.idle": "2021-05-20T20:05:10.144140Z",
     "shell.execute_reply": "2021-05-20T20:05:10.143193Z",
     "shell.execute_reply.started": "2021-05-20T19:08:37.453145Z"
    },
    "papermill": {
     "duration": 0.988444,
     "end_time": "2021-05-20T20:05:10.144275",
     "exception": false,
     "start_time": "2021-05-20T20:05:09.155831",
     "status": "completed"
    },
    "tags": []
   },
   "outputs": [
    {
     "name": "stderr",
     "output_type": "stream",
     "text": [
      "/opt/conda/lib/python3.7/site-packages/tensorflow/python/keras/engine/sequential.py:450: UserWarning: `model.predict_classes()` is deprecated and will be removed after 2021-01-01. Please use instead:* `np.argmax(model.predict(x), axis=-1)`,   if your model does multi-class classification   (e.g. if it uses a `softmax` last-layer activation).* `(model.predict(x) > 0.5).astype(\"int32\")`,   if your model does binary classification   (e.g. if it uses a `sigmoid` last-layer activation).\n",
      "  warnings.warn('`model.predict_classes()` is deprecated and '\n"
     ]
    },
    {
     "name": "stdout",
     "output_type": "stream",
     "text": [
      "[2 0 1 ... 0 0 2]\n"
     ]
    }
   ],
   "source": [
    "y_pred=model.predict_classes(X_test)\n",
    "print(y_pred)"
   ]
  },
  {
   "cell_type": "code",
   "execution_count": 23,
   "id": "stretch-girlfriend",
   "metadata": {
    "execution": {
     "iopub.execute_input": "2021-05-20T20:05:10.296028Z",
     "iopub.status.busy": "2021-05-20T20:05:10.295441Z",
     "iopub.status.idle": "2021-05-20T20:05:10.298775Z",
     "shell.execute_reply": "2021-05-20T20:05:10.299354Z",
     "shell.execute_reply.started": "2021-05-20T19:08:38.387307Z"
    },
    "papermill": {
     "duration": 0.081586,
     "end_time": "2021-05-20T20:05:10.299530",
     "exception": false,
     "start_time": "2021-05-20T20:05:10.217944",
     "status": "completed"
    },
    "tags": []
   },
   "outputs": [
    {
     "name": "stdout",
     "output_type": "stream",
     "text": [
      "0.8427306616961789\n"
     ]
    }
   ],
   "source": [
    "print(accuracy_score(y_test,y_pred))"
   ]
  },
  {
   "cell_type": "code",
   "execution_count": 24,
   "id": "running-scheduling",
   "metadata": {
    "execution": {
     "iopub.execute_input": "2021-05-20T20:05:10.450442Z",
     "iopub.status.busy": "2021-05-20T20:05:10.449631Z",
     "iopub.status.idle": "2021-05-20T20:05:10.467532Z",
     "shell.execute_reply": "2021-05-20T20:05:10.468113Z",
     "shell.execute_reply.started": "2021-05-20T19:08:38.397976Z"
    },
    "papermill": {
     "duration": 0.094739,
     "end_time": "2021-05-20T20:05:10.468277",
     "exception": false,
     "start_time": "2021-05-20T20:05:10.373538",
     "status": "completed"
    },
    "tags": []
   },
   "outputs": [
    {
     "name": "stdout",
     "output_type": "stream",
     "text": [
      "              precision    recall  f1-score   support\n",
      "\n",
      "           0    0.84102   0.85737   0.84912       617\n",
      "           1    0.72457   0.87194   0.79145       531\n",
      "           2    0.85881   0.90731   0.88239      1381\n",
      "           3    0.79478   0.66981   0.72696       318\n",
      "           4    0.89360   0.90760   0.90054      1277\n",
      "           5    0.00000   0.00000   0.00000       168\n",
      "\n",
      "    accuracy                        0.84273      4292\n",
      "   macro avg    0.68546   0.70234   0.69175      4292\n",
      "weighted avg    0.81163   0.84273   0.82570      4292\n",
      "\n"
     ]
    },
    {
     "name": "stderr",
     "output_type": "stream",
     "text": [
      "/opt/conda/lib/python3.7/site-packages/sklearn/metrics/_classification.py:1245: UndefinedMetricWarning: Precision and F-score are ill-defined and being set to 0.0 in labels with no predicted samples. Use `zero_division` parameter to control this behavior.\n",
      "  _warn_prf(average, modifier, msg_start, len(result))\n",
      "/opt/conda/lib/python3.7/site-packages/sklearn/metrics/_classification.py:1245: UndefinedMetricWarning: Precision and F-score are ill-defined and being set to 0.0 in labels with no predicted samples. Use `zero_division` parameter to control this behavior.\n",
      "  _warn_prf(average, modifier, msg_start, len(result))\n",
      "/opt/conda/lib/python3.7/site-packages/sklearn/metrics/_classification.py:1245: UndefinedMetricWarning: Precision and F-score are ill-defined and being set to 0.0 in labels with no predicted samples. Use `zero_division` parameter to control this behavior.\n",
      "  _warn_prf(average, modifier, msg_start, len(result))\n"
     ]
    }
   ],
   "source": [
    "print(classification_report(y_test, y_pred, digits=5))"
   ]
  },
  {
   "cell_type": "code",
   "execution_count": 25,
   "id": "executive-louis",
   "metadata": {
    "execution": {
     "iopub.execute_input": "2021-05-20T20:05:10.620675Z",
     "iopub.status.busy": "2021-05-20T20:05:10.619923Z",
     "iopub.status.idle": "2021-05-20T20:05:10.951911Z",
     "shell.execute_reply": "2021-05-20T20:05:10.952323Z",
     "shell.execute_reply.started": "2021-05-20T19:08:38.418266Z"
    },
    "papermill": {
     "duration": 0.410023,
     "end_time": "2021-05-20T20:05:10.952498",
     "exception": false,
     "start_time": "2021-05-20T20:05:10.542475",
     "status": "completed"
    },
    "tags": []
   },
   "outputs": [
    {
     "name": "stdout",
     "output_type": "stream",
     "text": [
      "Confusion Matrix\n",
      "AxesSubplot(0.125,0.125;0.62x0.755)\n"
     ]
    },
    {
     "data": {
      "image/png": "[encoded data removed]",
      "text/plain": [
       "<Figure size 432x288 with 2 Axes>"
      ]
     },
     "metadata": {
      "needs_background": "light"
     },
     "output_type": "display_data"
    }
   ],
   "source": [
    "print('Confusion Matrix')\n",
    "print(sns.heatmap(confusion_matrix(y_test, y_pred),annot=True,fmt=\"d\"))"
   ]
  },
  {
   "cell_type": "code",
   "execution_count": 26,
   "id": "cultural-pursuit",
   "metadata": {
    "execution": {
     "iopub.execute_input": "2021-05-20T20:05:11.108316Z",
     "iopub.status.busy": "2021-05-20T20:05:11.107757Z",
     "iopub.status.idle": "2021-05-20T20:05:11.113341Z",
     "shell.execute_reply": "2021-05-20T20:05:11.112699Z",
     "shell.execute_reply.started": "2021-05-20T19:08:38.769162Z"
    },
    "papermill": {
     "duration": 0.085238,
     "end_time": "2021-05-20T20:05:11.113497",
     "exception": false,
     "start_time": "2021-05-20T20:05:11.028259",
     "status": "completed"
    },
    "tags": []
   },
   "outputs": [
    {
     "name": "stdout",
     "output_type": "stream",
     "text": [
      "{'anger': 0, 'fear': 1, 'happy': 2, 'love': 3, 'sadness': 4, 'surprise': 5}\n"
     ]
    }
   ],
   "source": [
    "le_name_mapping = dict(zip(label_encoder.classes_, label_encoder.transform(label_encoder.classes_)))\n",
    "print(le_name_mapping)"
   ]
  },
  {
   "cell_type": "code",
   "execution_count": 27,
   "id": "about-china",
   "metadata": {
    "execution": {
     "iopub.execute_input": "2021-05-20T20:05:11.271407Z",
     "iopub.status.busy": "2021-05-20T20:05:11.270161Z",
     "iopub.status.idle": "2021-05-20T20:05:11.272501Z",
     "shell.execute_reply": "2021-05-20T20:05:11.272900Z",
     "shell.execute_reply.started": "2021-05-20T19:08:38.776740Z"
    },
    "papermill": {
     "duration": 0.084529,
     "end_time": "2021-05-20T20:05:11.273020",
     "exception": false,
     "start_time": "2021-05-20T20:05:11.188491",
     "status": "completed"
    },
    "tags": []
   },
   "outputs": [],
   "source": [
    "#Example\n",
    "def predict_emotion(stri):\n",
    "    review = re.sub('[^a-zA-Z]', ' ', stri)\n",
    "    review = review.lower()\n",
    "    review = review.split()\n",
    "    review = [ps.stem(word) for word in review if not word in stopwords.words('english')]\n",
    "    review = ' '.join(review)\n",
    "    onehot_repr = [one_hot(review,voc_size)] \n",
    "    embed = pad_sequences(onehot_repr,padding='pre',maxlen=sent_length)\n",
    "    predicti = model.predict(embed)\n",
    "    return label_encoder.classes_[np.argmax(predicti)]"
   ]
  },
  {
   "cell_type": "code",
   "execution_count": 28,
   "id": "fresh-emergency",
   "metadata": {
    "execution": {
     "iopub.execute_input": "2021-05-20T20:05:11.426250Z",
     "iopub.status.busy": "2021-05-20T20:05:11.425692Z",
     "iopub.status.idle": "2021-05-20T20:05:11.475343Z",
     "shell.execute_reply": "2021-05-20T20:05:11.474896Z",
     "shell.execute_reply.started": "2021-05-20T19:08:38.787699Z"
    },
    "papermill": {
     "duration": 0.127738,
     "end_time": "2021-05-20T20:05:11.475455",
     "exception": false,
     "start_time": "2021-05-20T20:05:11.347717",
     "status": "completed"
    },
    "tags": []
   },
   "outputs": [
    {
     "data": {
      "text/plain": [
       "'happy'"
      ]
     },
     "execution_count": 28,
     "metadata": {},
     "output_type": "execute_result"
    }
   ],
   "source": [
    "predict_emotion('I am very happy and joyful today')"
   ]
  },
  {
   "cell_type": "code",
   "execution_count": 29,
   "id": "sudden-mistress",
   "metadata": {
    "execution": {
     "iopub.execute_input": "2021-05-20T20:05:11.630269Z",
     "iopub.status.busy": "2021-05-20T20:05:11.629453Z",
     "iopub.status.idle": "2021-05-20T20:05:11.668346Z",
     "shell.execute_reply": "2021-05-20T20:05:11.668741Z",
     "shell.execute_reply.started": "2021-05-20T19:08:38.842205Z"
    },
    "papermill": {
     "duration": 0.118268,
     "end_time": "2021-05-20T20:05:11.668865",
     "exception": false,
     "start_time": "2021-05-20T20:05:11.550597",
     "status": "completed"
    },
    "tags": []
   },
   "outputs": [
    {
     "data": {
      "text/plain": [
       "'anger'"
      ]
     },
     "execution_count": 29,
     "metadata": {},
     "output_type": "execute_result"
    }
   ],
   "source": [
    "predict_emotion('He is an arrogant and rude person')"
   ]
  },
  {
   "cell_type": "code",
   "execution_count": 30,
   "id": "deluxe-immune",
   "metadata": {
    "execution": {
     "iopub.execute_input": "2021-05-20T20:05:11.825396Z",
     "iopub.status.busy": "2021-05-20T20:05:11.824527Z",
     "iopub.status.idle": "2021-05-20T20:05:11.863920Z",
     "shell.execute_reply": "2021-05-20T20:05:11.864379Z",
     "shell.execute_reply.started": "2021-05-20T19:08:38.889043Z"
    },
    "papermill": {
     "duration": 0.120111,
     "end_time": "2021-05-20T20:05:11.864528",
     "exception": false,
     "start_time": "2021-05-20T20:05:11.744417",
     "status": "completed"
    },
    "tags": []
   },
   "outputs": [
    {
     "data": {
      "text/plain": [
       "'fear'"
      ]
     },
     "execution_count": 30,
     "metadata": {},
     "output_type": "execute_result"
    }
   ],
   "source": [
    "predict_emotion('The teacher is intimidating and scary')"
   ]
  }
 ],
 "metadata": {
  "kernelspec": {
   "display_name": "Python 3",
   "language": "python",
   "name": "python3"
  },
  "language_info": {
   "codemirror_mode": {
    "name": "ipython",
    "version": 3
   },
   "file_extension": ".py",
   "mimetype": "text/x-python",
   "name": "python",
   "nbconvert_exporter": "python",
   "pygments_lexer": "ipython3",
   "version": "3.8.5"
  },
  "papermill": {
   "default_parameters": {},
   "duration": 89.698344,
   "end_time": "2021-05-20T20:05:14.801809",
   "environment_variables": {},
   "exception": null,
   "input_path": "__notebook__.ipynb",
   "output_path": "__notebook__.ipynb",
   "parameters": {},
   "start_time": "2021-05-20T20:03:45.103465",
   "version": "2.3.3"
  }
 },
 "nbformat": 4,
 "nbformat_minor": 5
}
